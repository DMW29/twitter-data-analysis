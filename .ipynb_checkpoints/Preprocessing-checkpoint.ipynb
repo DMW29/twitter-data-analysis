{
 "cells": [
  {
   "cell_type": "code",
   "execution_count": 1,
   "metadata": {
    "collapsed": true
   },
   "outputs": [],
   "source": [
    "# based on Andrew Hintermeier (andhint) preprocessing.py\n",
    "# -*- coding: utf-8 -*-\n",
    "# Set packages\n",
    "import re\n",
    "import json\n",
    "import operator\n",
    "from collections import Counter\n",
    "from nltk.corpus import stopwords\n",
    "import string"
   ]
  },
  {
   "cell_type": "code",
   "execution_count": 2,
   "metadata": {
    "collapsed": false
   },
   "outputs": [],
   "source": [
    "# Deal with emoji using Regex\n",
    "\n",
    "emoticons_str = r\"\"\"\n",
    "    (?:\n",
    "        [:=;] # Eyes\n",
    "        [oO\\-]? # Nose (optional)\n",
    "        [D\\)\\]\\(\\]/\\\\OpP] # Mouth\n",
    "    )\"\"\"\n",
    " \n",
    "regex_str = [\n",
    "    emoticons_str,\n",
    "    r'<[^>]+>', # HTML tags\n",
    "    r'(?:@[\\w_]+)', # @-mentions\n",
    "    r\"(?:\\#+[\\w_]+[\\w\\'_\\-]*[\\w_]+)\", # hash-tags\n",
    "    r'http[s]?://(?:[a-z]|[0-9]|[$-_@.&+]|[!*\\(\\),]|(?:%[0-9a-f][0-9a-f]))+', # URLs\n",
    " \n",
    "    r'(?:(?:\\d+,?)+(?:\\.?\\d+)?)', # numbers\n",
    "    r\"(?:[a-z][a-z'\\-_]+[a-z])\", # words with dash,underscore,apostrophe \n",
    "    #NOTE: NBA-TV is a valid value; words w/ an apostrophe;\n",
    "    #NOTE: Need to tag entities maybe\n",
    "    r'(?:[\\w_]+)', # other words\n",
    "    r'(?:\\S)' # anything else\n",
    "]\n",
    "\n",
    "# Tokenize emoji content using Regex\n",
    "emoticon_re = re.compile(r'^'+emoticons_str+'$', re.VERBOSE | re.IGNORECASE)\n",
    "\n",
    "# Tokenize other content using Regex\n",
    "tokens_re = re.compile(r'('+'|'.join(regex_str)+')', re.VERBOSE | re.IGNORECASE)\n"
   ]
  },
  {
   "cell_type": "code",
   "execution_count": 3,
   "metadata": {
    "collapsed": false
   },
   "outputs": [],
   "source": [
    "# defining stopwords\n",
    "# ? Should punctuation be used in sentiment analysis\n",
    "# ? Does punctuation contribute to content understanding\n",
    "# ? Does removing punctuation affect emoji analysis\n",
    "\n",
    "punctuation = list(string.punctuation)\n",
    "stop = stopwords.words('english') + punctuation + ['RT', 'via', 'The' , '1', '2', '3', '4', '5', '6', '7', '8', '9', '0', '10']\n",
    "# NOTE: stop words contain letters after apostrophes, need different solution"
   ]
  },
  {
   "cell_type": "code",
   "execution_count": 4,
   "metadata": {
    "collapsed": true
   },
   "outputs": [],
   "source": [
    "# Define useful functions to tokenize and preprocess tweets\n",
    "def tokenize(s):\n",
    "    return tokens_re.findall(s)\n",
    " \n",
    "def preprocess(s, lowercase=False):\n",
    "    tokens = tokenize(s)\n",
    "    if lowercase:\n",
    "        tokens = [token if emoticon_re.search(token) else token.lower() for token in tokens]\n",
    "    return tokens\n"
   ]
  },
  {
   "cell_type": "code",
   "execution_count": 5,
   "metadata": {
    "collapsed": false
   },
   "outputs": [],
   "source": [
    "# Select a file to preprocess \n",
    "fileName = 'AtlantaDream052916.json'\n",
    "\n",
    "# open the file with these parameters, while setting up the counter variables\n",
    "with open(fileName, 'r') as f:\n",
    "    countAll = Counter()\n",
    "    countTerms = Counter()\n",
    "    countHash = Counter()\n",
    "    countMention = Counter()\n",
    "\n",
    "    for line in f:\n",
    "        tweet = json.loads(line) # load it as Python dict\n",
    "        tokenList = preprocess(tweet['text'].encode('ascii', 'ignore')) # list of tokens created from this tweet\n",
    "        \n",
    "        termsAll = [term for term in tokenList if term not in stop]  # all terms including stop words\n",
    "        termsTerms = [term for term in tokenList if term not in stop and not term.startswith(('#','@'))]  # terms with stop words removed\n",
    "        termsHash = [term for term in tokenList if term.startswith('#')]\n",
    "        termsMention = [term for term in tokenList if term.startswith('@')]\n",
    "\n",
    "        # update the counter variables\n",
    "        countAll.update(termsAll)\n",
    "        countTerms.update(termsTerms)\n",
    "        countHash.update(termsHash)\n",
    "        countMention.update(termsMention)"
   ]
  },
  {
   "cell_type": "code",
   "execution_count": 7,
   "metadata": {
    "collapsed": false
   },
   "outputs": [
    {
     "name": "stdout",
     "output_type": "stream",
     "text": [
      "Top 5 terms (stopwords removed)\n",
      "[('@AtlantaDream', 858), ('@IndianaFever', 372), ('@NBATV', 239), ('lead', 187), ('#RWTD', 184), ('@WNBA', 162), ('#WatchMeWork', 101), ('#WNBA20', 98), ('@Catchin24', 94), ('NBA', 88)]\n",
      "\n",
      "Top 5 terms with stopwords, mentions, and hashtags removed\n",
      "[('lead', 187), ('NBA', 88), ('TV', 88), ('Dream', 86), ('travel', 78), ('battle', 77), ('NEXT', 77), ('South', 77), ('points', 76), ('today', 75)]\n",
      "\n",
      "Top 5 Hashtags\n",
      "[('#RWTD', 184), ('#WatchMeWork', 101), ('#WNBA20', 98), ('#WNBA', 54), ('#AtlantaDream', 52), ('#GameDay', 17), ('#keepitup', 12), ('#IndianaFever', 9), ('#ATLDream', 7), ('#WhatIfTimes', 7)]\n",
      "\n",
      "Top 5 Mentions\n",
      "[('@AtlantaDream', 858), ('@IndianaFever', 372), ('@NBATV', 239), ('@WNBA', 162), ('@Catchin24', 94), ('@TiffMitch25', 66), ('@8Cortijo', 61), ('@angel_35', 54), ('@tiphayes3', 49), ('@FOXSportsSE', 47)]\n"
     ]
    }
   ],
   "source": [
    "# Print top 10 of each counter\n",
    "print(\"Top 5 terms (stopwords removed)\")\n",
    "print(countAll.most_common(10))\n",
    "print\n",
    "print(\"Top 5 terms with stopwords, mentions, and hashtags removed\")\n",
    "print(countTerms.most_common(10))\n",
    "print\n",
    "print(\"Top 5 Hashtags\")\n",
    "print(countHash.most_common(10))\n",
    "print\n",
    "print(\"Top 5 Mentions\")\n",
    "print(countMention.most_common(10))\n"
   ]
  },
  {
   "cell_type": "code",
   "execution_count": null,
   "metadata": {
    "collapsed": false
   },
   "outputs": [],
   "source": []
  },
  {
   "cell_type": "code",
   "execution_count": null,
   "metadata": {
    "collapsed": true
   },
   "outputs": [],
   "source": []
  }
 ],
 "metadata": {
  "anaconda-cloud": {},
  "kernelspec": {
   "display_name": "Python [Root]",
   "language": "python",
   "name": "Python [Root]"
  },
  "language_info": {
   "codemirror_mode": {
    "name": "ipython",
    "version": 2
   },
   "file_extension": ".py",
   "mimetype": "text/x-python",
   "name": "python",
   "nbconvert_exporter": "python",
   "pygments_lexer": "ipython2",
   "version": "2.7.12"
  }
 },
 "nbformat": 4,
 "nbformat_minor": 0
}
